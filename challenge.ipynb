{
 "cells": [
  {
   "cell_type": "code",
   "execution_count": 1,
   "metadata": {
    "collapsed": true
   },
   "outputs": [],
   "source": [
    "import pandas as pd\n",
    "import numpy as np\n",
    "import uuid"
   ]
  },
  {
   "cell_type": "code",
   "execution_count": 2,
   "metadata": {
    "collapsed": true
   },
   "outputs": [],
   "source": [
    "SUM_INTERVALS = [(-7,0), (-14,0), (-30,0)]"
   ]
  },
  {
   "cell_type": "markdown",
   "metadata": {},
   "source": [
    "## Generate some random data"
   ]
  },
  {
   "cell_type": "code",
   "execution_count": 3,
   "metadata": {
    "collapsed": false
   },
   "outputs": [],
   "source": [
    "uids=np.array([str(uuid.uuid4()) for _ in range(10)])\n",
    "times = pd.date_range('2016-01-01','2016-02-01', freq='s')\n",
    "data = dict(\n",
    "    id=np.random.choice(uids, 100),\n",
    "    timestamp=np.random.choice(times, 100),\n",
    "    feature_a=np.ones(100),\n",
    "    feature_b=np.zeros(100),\n",
    ")"
   ]
  },
  {
   "cell_type": "markdown",
   "metadata": {},
   "source": [
    "## Challenge:\n",
    "The `SUM_INTERVAL` variable contains relative time intervals in days. So the first means 7 days back until today (asof time writing this 2016-02-01).\n",
    "the dictionary `data` contains 10 distinct users which made visists over the timespan of one month. Each visit has a value for `feature a`, as awell as `feature_b` assigned to it. **For each user calculate the sum of it's respective features for each time interval. The final output should be a dataframe or numpy matrix containing one row per user, an id column an the feature columns (N_users, 1 + N_intervals*N_features)**\n",
    "\n",
    "*It is encouraged to use the pandas library for this task but it is not required.*"
   ]
  },
  {
   "cell_type": "code",
   "execution_count": 4,
   "metadata": {
    "collapsed": true
   },
   "outputs": [],
   "source": [
    "def bin_sum_features(data, today=pd.Timestamp('2016-02-01')):\n",
    "    pass"
   ]
  },
  {
   "cell_type": "markdown",
   "metadata": {},
   "source": [
    "## Result shape example\n",
    "below you see how the results could look like with pandas"
   ]
  },
  {
   "cell_type": "code",
   "execution_count": 5,
   "metadata": {
    "collapsed": false
   },
   "outputs": [
    {
     "data": {
      "text/html": [
       "<div>\n",
       "<style>\n",
       "    .dataframe thead tr:only-child th {\n",
       "        text-align: right;\n",
       "    }\n",
       "\n",
       "    .dataframe thead th {\n",
       "        text-align: left;\n",
       "    }\n",
       "\n",
       "    .dataframe tbody tr th {\n",
       "        vertical-align: top;\n",
       "    }\n",
       "</style>\n",
       "<table border=\"1\" class=\"dataframe\">\n",
       "  <thead>\n",
       "    <tr style=\"text-align: right;\">\n",
       "      <th></th>\n",
       "      <th>id</th>\n",
       "      <th>feature_a_7</th>\n",
       "      <th>feature_a_14</th>\n",
       "      <th>feature_a_30</th>\n",
       "      <th>feature_b_7</th>\n",
       "      <th>feature_b_14</th>\n",
       "      <th>feature_b_30</th>\n",
       "    </tr>\n",
       "  </thead>\n",
       "  <tbody>\n",
       "    <tr>\n",
       "      <th>0</th>\n",
       "      <td>1aa9204b-5956-41a3-96b6-58cbf6bc147e</td>\n",
       "      <td>1</td>\n",
       "      <td>2</td>\n",
       "      <td>3</td>\n",
       "      <td>4</td>\n",
       "      <td>5</td>\n",
       "      <td>6</td>\n",
       "    </tr>\n",
       "  </tbody>\n",
       "</table>\n",
       "</div>"
      ],
      "text/plain": [
       "                                     id  feature_a_7  feature_a_14  \\\n",
       "0  1aa9204b-5956-41a3-96b6-58cbf6bc147e            1             2   \n",
       "\n",
       "   feature_a_30  feature_b_7  feature_b_14  feature_b_30  \n",
       "0             3            4             5             6  "
      ]
     },
     "execution_count": 5,
     "metadata": {},
     "output_type": "execute_result"
    }
   ],
   "source": [
    "pd.DataFrame([['1aa9204b-5956-41a3-96b6-58cbf6bc147e',1,2,3,4,5,6]], \n",
    "             columns=['id', 'feature_a_7', 'feature_a_14', 'feature_a_30', \n",
    "                      'feature_b_7', 'feature_b_14', 'feature_b_30'])"
   ]
  },
  {
   "cell_type": "markdown",
   "metadata": {},
   "source": [
    "## Solution"
   ]
  },
  {
   "cell_type": "code",
   "execution_count": 6,
   "metadata": {
    "collapsed": false
   },
   "outputs": [
    {
     "data": {
      "text/html": [
       "<div>\n",
       "<style>\n",
       "    .dataframe thead tr:only-child th {\n",
       "        text-align: right;\n",
       "    }\n",
       "\n",
       "    .dataframe thead th {\n",
       "        text-align: left;\n",
       "    }\n",
       "\n",
       "    .dataframe tbody tr th {\n",
       "        vertical-align: top;\n",
       "    }\n",
       "</style>\n",
       "<table border=\"1\" class=\"dataframe\">\n",
       "  <thead>\n",
       "    <tr style=\"text-align: right;\">\n",
       "      <th></th>\n",
       "      <th>feature_a_14</th>\n",
       "      <th>feature_a_30</th>\n",
       "      <th>feature_a_7</th>\n",
       "      <th>feature_b_14</th>\n",
       "      <th>feature_b_30</th>\n",
       "      <th>feature_b_7</th>\n",
       "    </tr>\n",
       "  </thead>\n",
       "  <tbody>\n",
       "    <tr>\n",
       "      <th>15cefce6-c362-426a-813e-307e710d74dd</th>\n",
       "      <td>3.0</td>\n",
       "      <td>9.0</td>\n",
       "      <td>1.0</td>\n",
       "      <td>0.0</td>\n",
       "      <td>0.0</td>\n",
       "      <td>0.0</td>\n",
       "    </tr>\n",
       "    <tr>\n",
       "      <th>3102c0cf-9406-4f28-8de2-58c01e14e638</th>\n",
       "      <td>8.0</td>\n",
       "      <td>15.0</td>\n",
       "      <td>3.0</td>\n",
       "      <td>0.0</td>\n",
       "      <td>0.0</td>\n",
       "      <td>0.0</td>\n",
       "    </tr>\n",
       "    <tr>\n",
       "      <th>52a0428c-dfc5-4f9c-992c-0c0e9d05cc8f</th>\n",
       "      <td>5.0</td>\n",
       "      <td>12.0</td>\n",
       "      <td>2.0</td>\n",
       "      <td>0.0</td>\n",
       "      <td>0.0</td>\n",
       "      <td>0.0</td>\n",
       "    </tr>\n",
       "    <tr>\n",
       "      <th>60334321-e72a-4587-af54-1de79e9fdf27</th>\n",
       "      <td>5.0</td>\n",
       "      <td>9.0</td>\n",
       "      <td>3.0</td>\n",
       "      <td>0.0</td>\n",
       "      <td>0.0</td>\n",
       "      <td>0.0</td>\n",
       "    </tr>\n",
       "    <tr>\n",
       "      <th>6d62b83c-a064-4e36-bbe2-9ebf0a745c43</th>\n",
       "      <td>5.0</td>\n",
       "      <td>6.0</td>\n",
       "      <td>1.0</td>\n",
       "      <td>0.0</td>\n",
       "      <td>0.0</td>\n",
       "      <td>0.0</td>\n",
       "    </tr>\n",
       "    <tr>\n",
       "      <th>8d453ef0-fbb1-434c-8c7f-2a32b67417ca</th>\n",
       "      <td>4.0</td>\n",
       "      <td>7.0</td>\n",
       "      <td>1.0</td>\n",
       "      <td>0.0</td>\n",
       "      <td>0.0</td>\n",
       "      <td>0.0</td>\n",
       "    </tr>\n",
       "    <tr>\n",
       "      <th>93a915a6-32c4-485c-a194-ddd6ba640efe</th>\n",
       "      <td>4.0</td>\n",
       "      <td>11.0</td>\n",
       "      <td>1.0</td>\n",
       "      <td>0.0</td>\n",
       "      <td>0.0</td>\n",
       "      <td>0.0</td>\n",
       "    </tr>\n",
       "    <tr>\n",
       "      <th>9d914176-7d7b-4f5a-aeb0-bdc1b3b3b0b2</th>\n",
       "      <td>3.0</td>\n",
       "      <td>8.0</td>\n",
       "      <td>NaN</td>\n",
       "      <td>0.0</td>\n",
       "      <td>0.0</td>\n",
       "      <td>NaN</td>\n",
       "    </tr>\n",
       "    <tr>\n",
       "      <th>b5928178-7f6f-4741-86c0-da9f97851c0d</th>\n",
       "      <td>2.0</td>\n",
       "      <td>6.0</td>\n",
       "      <td>1.0</td>\n",
       "      <td>0.0</td>\n",
       "      <td>0.0</td>\n",
       "      <td>0.0</td>\n",
       "    </tr>\n",
       "    <tr>\n",
       "      <th>fdfc338b-f7c7-4568-ae0e-b118df41bea1</th>\n",
       "      <td>5.0</td>\n",
       "      <td>14.0</td>\n",
       "      <td>3.0</td>\n",
       "      <td>0.0</td>\n",
       "      <td>0.0</td>\n",
       "      <td>0.0</td>\n",
       "    </tr>\n",
       "  </tbody>\n",
       "</table>\n",
       "</div>"
      ],
      "text/plain": [
       "                                      feature_a_14  feature_a_30  feature_a_7  \\\n",
       "15cefce6-c362-426a-813e-307e710d74dd           3.0           9.0          1.0   \n",
       "3102c0cf-9406-4f28-8de2-58c01e14e638           8.0          15.0          3.0   \n",
       "52a0428c-dfc5-4f9c-992c-0c0e9d05cc8f           5.0          12.0          2.0   \n",
       "60334321-e72a-4587-af54-1de79e9fdf27           5.0           9.0          3.0   \n",
       "6d62b83c-a064-4e36-bbe2-9ebf0a745c43           5.0           6.0          1.0   \n",
       "8d453ef0-fbb1-434c-8c7f-2a32b67417ca           4.0           7.0          1.0   \n",
       "93a915a6-32c4-485c-a194-ddd6ba640efe           4.0          11.0          1.0   \n",
       "9d914176-7d7b-4f5a-aeb0-bdc1b3b3b0b2           3.0           8.0          NaN   \n",
       "b5928178-7f6f-4741-86c0-da9f97851c0d           2.0           6.0          1.0   \n",
       "fdfc338b-f7c7-4568-ae0e-b118df41bea1           5.0          14.0          3.0   \n",
       "\n",
       "                                      feature_b_14  feature_b_30  feature_b_7  \n",
       "15cefce6-c362-426a-813e-307e710d74dd           0.0           0.0          0.0  \n",
       "3102c0cf-9406-4f28-8de2-58c01e14e638           0.0           0.0          0.0  \n",
       "52a0428c-dfc5-4f9c-992c-0c0e9d05cc8f           0.0           0.0          0.0  \n",
       "60334321-e72a-4587-af54-1de79e9fdf27           0.0           0.0          0.0  \n",
       "6d62b83c-a064-4e36-bbe2-9ebf0a745c43           0.0           0.0          0.0  \n",
       "8d453ef0-fbb1-434c-8c7f-2a32b67417ca           0.0           0.0          0.0  \n",
       "93a915a6-32c4-485c-a194-ddd6ba640efe           0.0           0.0          0.0  \n",
       "9d914176-7d7b-4f5a-aeb0-bdc1b3b3b0b2           0.0           0.0          NaN  \n",
       "b5928178-7f6f-4741-86c0-da9f97851c0d           0.0           0.0          0.0  \n",
       "fdfc338b-f7c7-4568-ae0e-b118df41bea1           0.0           0.0          0.0  "
      ]
     },
     "execution_count": 6,
     "metadata": {},
     "output_type": "execute_result"
    }
   ],
   "source": [
    "import math\n",
    "\n",
    "def do_bin(df, start, end):\n",
    "    #find the visits that are in given bin and sum the features for those visits\n",
    "    select = df[(df.days_diff >= start) & (df.days_diff <= end)].groupby(['id']).sum()\n",
    "\n",
    "    bin_features = {}\n",
    "    #add the features with appropriate name to dictionary\n",
    "    bin_features['feature_a_' + str(abs(start))] = select['feature_a']\n",
    "    bin_features['feature_b_' + str(abs(start))] = select['feature_b']\n",
    "    \n",
    "    return bin_features\n",
    "\n",
    "def do_bin_sum_features(data, today=pd.Timestamp('2016-02-01')):\n",
    "    #convert data dictionary into a pandas DataFrame\n",
    "    df = pd.DataFrame(data)\n",
    "\n",
    "    #calculate days in past from today for each user visit\n",
    "    df['days_diff'] = df['timestamp'].apply(lambda t: (t - today).days)\n",
    "\n",
    "    #to verify code correctness, adding an assertion\n",
    "    assert np.sum(do_bin(df, -31, 0)['feature_a_31']) == 100, \"feature_a_31 sum is not 100\"\n",
    "    \n",
    "    #for each time bin, sum features for each user\n",
    "    items = {}\n",
    "    for start, end in SUM_INTERVALS:\n",
    "        #find the visits that are in given bin and sum the features for those visits\n",
    "        items.update(do_bin(df, start, end))\n",
    "        \n",
    "    #create another pandas DatFrame from this new dictionary\n",
    "    return pd.DataFrame(items)\n",
    "    \n",
    "    \n",
    "do_bin_sum_features(data)"
   ]
  },
  {
   "cell_type": "code",
   "execution_count": null,
   "metadata": {
    "collapsed": true
   },
   "outputs": [],
   "source": []
  }
 ],
 "metadata": {
  "kernelspec": {
   "display_name": "Python 3",
   "language": "python",
   "name": "python3"
  },
  "language_info": {
   "codemirror_mode": {
    "name": "ipython",
    "version": 3
   },
   "file_extension": ".py",
   "mimetype": "text/x-python",
   "name": "python",
   "nbconvert_exporter": "python",
   "pygments_lexer": "ipython3",
   "version": "3.5.2"
  },
  "widgets": {
   "state": {},
   "version": "1.1.2"
  }
 },
 "nbformat": 4,
 "nbformat_minor": 2
}
